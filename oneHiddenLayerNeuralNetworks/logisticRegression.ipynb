{
 "cells": [
  {
   "cell_type": "code",
   "execution_count": 16,
   "metadata": {},
   "outputs": [],
   "source": [
    "import pandas as pd\n",
    "import numpy as np\n",
    "from sklearn.cross_validation import train_test_split\n",
    "\n",
    "m = 150\n",
    "\n",
    "def sigmoid(var):\n",
    "    return 1 / (1 + np.exp(-var))\n",
    "\n",
    "def ReLU(var):\n",
    "    return np.maximum(var, 0)\n",
    "    \n",
    "def DeReLU(var):\n",
    "    var[var < 0] = 0\n",
    "    var[var >= 0] = 1\n",
    "    return var\n",
    "\n",
    "df = pd.read_csv('./iris.data', header=None)\n",
    "X = df.iloc[:m, [0, 1, 2, 3]].values\n",
    "Y = df.iloc[:m, [4]].values\n",
    "\n",
    "for iter in range(m):\n",
    "    if Y[iter][0] == 'Iris-setosa':\n",
    "        Y[iter][0] = 1\n",
    "    else:\n",
    "        Y[iter][0] = 0\n",
    "\n",
    "X_train, X_test, Y_train, Y_test = train_test_split(X, Y, test_size = 0.3, random_state = 0)\n",
    "\n",
    "X_train = X_train.T\n",
    "X_test = X_test.T\n",
    "Y_train = Y_train.T\n",
    "\n",
    "Y_test = Y_test.T"
   ]
  },
  {
   "cell_type": "code",
   "execution_count": 20,
   "metadata": {},
   "outputs": [
    {
     "name": "stdout",
     "output_type": "stream",
     "text": [
      "[[4.387934993133058e-08 2.9948751034680754e-06 -2.0265579223632812e-06\n",
      "  2.269379406616423e-10 -3.8743019104003906e-05 3.1617211071477413e-09\n",
      "  -1.895427703857422e-05 1.0367328968641232e-06 1.6784071021902491e-07\n",
      "  2.5763809389900416e-05 6.707830735308562e-09 5.745586349803489e-06\n",
      "  5.926664243816049e-07 4.2708322212092753e-07 5.777294518338749e-07\n",
      "  -0.00012958049774169922 1.376371528749587e-06 1.4569149016097072e-06\n",
      "  -0.00020509958267211914 -5.7220458984375e-06 1.4915568158357928e-07\n",
      "  3.036544512724504e-06 -0.0003783702850341797 -0.00023823976516723633\n",
      "  1.2722119890895556e-07 -8.821487426757812e-06 -9.40561294555664e-05\n",
      "  7.357449248956982e-06 0.0003400869609322399 -0.00012063980102539062\n",
      "  1.727917009475277e-08 3.6011006159242243e-06 -2.4437904357910156e-05\n",
      "  1.671996017194033e-07 4.387070706712848e-09 2.485441291355528e-05\n",
      "  -2.5033950805664062e-05 4.925777474795723e-08 1.3117346497892868e-05\n",
      "  1.3199565728427842e-05 7.034790083793041e-09 -4.4226646423339844e-05\n",
      "  2.899528617206215e-08 -0.00012743473052978516 -9.894371032714844e-06]]\n"
     ]
    }
   ],
   "source": [
    "'''\n",
    "x1     node1\n",
    "x2     node2\n",
    "x3     node3    y_hat\n",
    "x4     node4\n",
    "       node5\n",
    "which means n[0] = 4, n[1] = 5, n[2] = 1\n",
    "\n",
    "hidden layer node use ReLU as activation functions; ouput layer node use sigmoid node\n",
    "'''\n",
    "\n",
    "W1 = np.random.randn(5, 4)\n",
    "b1 = np.random.randn(5, 1)\n",
    "W2 = np.random.randn(1, 5)\n",
    "b2 = np.random.randn(1, 1)\n",
    "\n",
    "for iter in range(10000):\n",
    "    Z1 = np.dot(W1, X_train) + b1\n",
    "    A1 = ReLU(Z1)\n",
    "    Z2 = np.dot(W2, A1) + b2\n",
    "    Z2 = np.array(Z2,dtype=np.float32)\n",
    "    A2 = sigmoid(Z2)\n",
    "    dZ2 = A2 - Y_train\n",
    "    dW2 = (np.dot(dZ2, A1.T)) / m\n",
    "    db2 = (np.sum(dZ2, axis = 1, keepdims = True)) / m\n",
    "    dZ1 = (np.dot(W2.T, dZ2)) * (DeReLU(Z1))\n",
    "    dW1 = (np.dot(dZ1, X_train.T)) / m\n",
    "    db1 = (np.sum(dZ1, axis = 1, keepdims = True)) / m\n",
    "    W1 = W1 - 0.1 * dW1\n",
    "    b1 = b1 - 0.1 * db1\n",
    "    W2 = W2 - 0.1 * dW2\n",
    "    b2 = b2 - 0.1 * db2\n",
    "    \n",
    "\n",
    "Z1 = np.dot(W1, X_test) + b1\n",
    "A1 = ReLU(Z1)\n",
    "Z2 = np.dot(W2, A1) + b2\n",
    "Z2 = np.array(Z2,dtype=np.float32)\n",
    "A2 = sigmoid(Z2)\n",
    "\n",
    "print(A2 - Y_test)"
   ]
  },
  {
   "cell_type": "code",
   "execution_count": null,
   "metadata": {
    "collapsed": true
   },
   "outputs": [],
   "source": []
  }
 ],
 "metadata": {
  "kernelspec": {
   "display_name": "Python 3",
   "language": "python",
   "name": "python3"
  },
  "language_info": {
   "codemirror_mode": {
    "name": "ipython",
    "version": 3
   },
   "file_extension": ".py",
   "mimetype": "text/x-python",
   "name": "python",
   "nbconvert_exporter": "python",
   "pygments_lexer": "ipython3",
   "version": "3.6.3"
  }
 },
 "nbformat": 4,
 "nbformat_minor": 2
}
