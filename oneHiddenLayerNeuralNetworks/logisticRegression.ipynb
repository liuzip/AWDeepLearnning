{
 "cells": [
  {
   "cell_type": "code",
   "execution_count": 1,
   "metadata": {},
   "outputs": [],
   "source": [
    "import pandas as pd\n",
    "import numpy as np\n",
    "from sklearn.model_selection import train_test_split\n",
    "\n",
    "m = 150\n",
    "\n",
    "def sigmoid(var):\n",
    "    return 1 / (1 + np.exp(-var))\n",
    "\n",
    "def ReLU(var):\n",
    "    return np.maximum(var, 0)\n",
    "    \n",
    "def DeReLU(var):\n",
    "    var[var < 0] = 0\n",
    "    var[var >= 0] = 1\n",
    "    return var\n",
    "\n",
    "df = pd.read_csv('./iris.data', header=None)\n",
    "X = df.iloc[:m, [0, 1, 2, 3]].values\n",
    "Y = df.iloc[:m, [4]].values\n",
    "\n",
    "for iter in range(m):\n",
    "    if Y[iter][0] == 'Iris-setosa':\n",
    "        Y[iter][0] = 1\n",
    "    else:\n",
    "        Y[iter][0] = 0\n",
    "\n",
    "X_train, X_test, Y_train, Y_test = train_test_split(X, Y, test_size = 0.3, random_state = 0)\n",
    "\n",
    "X_train = X_train.T\n",
    "X_test = X_test.T\n",
    "Y_train = Y_train.T\n",
    "Y_test = Y_test.T"
   ]
  },
  {
   "cell_type": "code",
   "execution_count": 9,
   "metadata": {},
   "outputs": [
    {
     "name": "stderr",
     "output_type": "stream",
     "text": [
      "C:\\ProgramData\\Anaconda3\\lib\\site-packages\\ipykernel_launcher.py:8: RuntimeWarning: overflow encountered in exp\n",
      "  \n"
     ]
    },
    {
     "name": "stdout",
     "output_type": "stream",
     "text": [
      "[[0.0 0.0 0.0 0.0 -1.9073486328125e-06 0.0 -2.384185791015625e-07 0.0 0.0\n",
      "  2.578896329952623e-29 0.0 1.7247692972849327e-38 0.0 0.0 0.0\n",
      "  -7.987022399902344e-06 0.0 0.0 -1.8596649169921875e-05 0.0 0.0 0.0\n",
      "  -0.00017118453979492188 -3.218650817871094e-05 0.0 0.0\n",
      "  -3.0994415283203125e-05 7.814793785971012e-38 2.135737780988359e-22\n",
      "  -1.7762184143066406e-05 0.0 0.0 -8.344650268554688e-07 0.0 0.0 0.0\n",
      "  -9.5367431640625e-07 0.0 3.993660265929956e-38 2.123438682359374e-37 0.0\n",
      "  -1.1920928955078125e-06 0.0 -3.039836883544922e-05 -2.384185791015625e-07]]\n"
     ]
    }
   ],
   "source": [
    "'''\n",
    "x1     node1\n",
    "x2     node2\n",
    "x3     node3    y_hat\n",
    "x4     node4\n",
    "       node5\n",
    "which means n[0] = 4, n[1] = 5, n[2] = 1\n",
    "\n",
    "hidden layer node use ReLU as activation functions; ouput layer node use sigmoid node\n",
    "'''\n",
    "\n",
    "W1 = np.random.randn(5, 4) * 0.01\n",
    "b1 = np.zeros((5, 1))\n",
    "W2 = np.random.randn(1, 5) * 0.01\n",
    "b2 = 0\n",
    "\n",
    "for iter in range(10000):\n",
    "    Z1 = np.dot(W1, X_train) + b1\n",
    "    A1 = ReLU(Z1)\n",
    "    Z2 = np.dot(W2, A1) + b2\n",
    "    Z2 = np.array(Z2, dtype = np.float32)\n",
    "    A2 = sigmoid(Z2)\n",
    "    dZ2 = A2 - Y_train\n",
    "    dW2 = (np.dot(dZ2, A1.T)) / m\n",
    "    db2 = (np.sum(dZ2, axis = 1, keepdims = True)) / m\n",
    "    dZ1 = (np.dot(W2.T, dZ2)) * (DeReLU(Z1))\n",
    "    dW1 = (np.dot(dZ1, X_train.T)) / m\n",
    "    db1 = (np.sum(dZ1, axis = 1, keepdims = True)) / m\n",
    "    W1 = W1 - dW1\n",
    "    b1 = b1 - db1\n",
    "    W2 = W2 - dW2\n",
    "    b2 = b2 - db2\n",
    "    \n",
    "\n",
    "Z1 = np.dot(W1, X_test) + b1\n",
    "A1 = ReLU(Z1)\n",
    "Z2 = np.dot(W2, A1) + b2\n",
    "Z2 = np.array(Z2,dtype=np.float32)\n",
    "A2 = sigmoid(Z2)\n",
    "\n",
    "print(A2 - Y_test)"
   ]
  },
  {
   "cell_type": "code",
   "execution_count": null,
   "metadata": {
    "collapsed": true
   },
   "outputs": [],
   "source": []
  }
 ],
 "metadata": {
  "kernelspec": {
   "display_name": "Python 3",
   "language": "python",
   "name": "python3"
  },
  "language_info": {
   "codemirror_mode": {
    "name": "ipython",
    "version": 3
   },
   "file_extension": ".py",
   "mimetype": "text/x-python",
   "name": "python",
   "nbconvert_exporter": "python",
   "pygments_lexer": "ipython3",
   "version": "3.6.3"
  }
 },
 "nbformat": 4,
 "nbformat_minor": 2
}
