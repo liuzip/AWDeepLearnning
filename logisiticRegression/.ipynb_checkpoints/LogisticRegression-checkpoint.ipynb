{
 "cells": [
  {
   "cell_type": "code",
   "execution_count": 8,
   "metadata": {},
   "outputs": [
    {
     "name": "stdout",
     "output_type": "stream",
     "text": [
      "[[ 0.66841791]\n",
      " [ 0.95928668]\n",
      " [ 0.41221474]\n",
      " [ 0.93181361]]\n",
      "[[2.303380142620881e-06 0.0002943029103334993 -6.318092346191406e-05\n",
      "  7.403203028388816e-08 -0.0012593865394592285 2.243882448738077e-07\n",
      "  -0.0004490017890930176 0.00014601329166907817 4.714922761195339e-05\n",
      "  0.0012124516069889069 5.89337673773116e-07 0.0004009912663605064\n",
      "  6.632455915678293e-05 8.565445023123175e-05 6.92139146849513e-05\n",
      "  -0.0027829408645629883 0.00013851787662133574 0.00010181656398344785\n",
      "  -0.003239929676055908 -0.00013136863708496094 8.148585038725287e-06\n",
      "  0.00015250346041284502 -0.007788658142089844 -0.004636883735656738\n",
      "  2.150862565031275e-05 -9.834766387939453e-05 -0.0027191638946533203\n",
      "  0.00046432632370851934 0.00499510345980525 -0.0024832487106323242\n",
      "  2.7298915483697783e-06 0.00013843164197169244 -0.0008559226989746094\n",
      "  2.3731454348308034e-05 4.5264548020895745e-07 0.0007999811205081642\n",
      "  -0.0007575750350952148 5.104782758280635e-06 0.0006459711585193872\n",
      "  0.0006648831767961383 1.71129534010106e-06 -0.0010939836502075195\n",
      "  1.0591621503408533e-05 -0.0023798346519470215 -0.00043529272079467773]]\n"
     ]
    }
   ],
   "source": [
    "import pandas as pd\n",
    "import numpy as np\n",
    "from sklearn.cross_validation import train_test_split\n",
    "\n",
    "m = 150\n",
    "\n",
    "def sigmoid(var):\n",
    "    return 1 / (1 + np.exp(-var))\n",
    "\n",
    "df = pd.read_csv('./iris.data', header=None)\n",
    "X = df.iloc[:m, [0, 1, 2, 3]].values\n",
    "Y = df.iloc[:m, [4]].values\n",
    "\n",
    "for iter in range(m):\n",
    "    if Y[iter][0] == 'Iris-setosa':\n",
    "        Y[iter][0] = 1\n",
    "    else:\n",
    "        Y[iter][0] = 0\n",
    "\n",
    "X_train, X_test, Y_train, Y_test = train_test_split(X, Y, test_size = 0.3, random_state = 0)\n",
    "\n",
    "X_train = X_train.T\n",
    "X_test = X_test.T\n",
    "Y_train = Y_train.T\n",
    "Y_test = Y_test.T\n",
    "\n",
    "W = np.random.randn(4, 1)\n",
    "b = np.random.rand()\n",
    "\n",
    "print(W)\n",
    "\n",
    "for iter in range(1000):\n",
    "    Z = np.array(np.dot(W.T, X_train), dtype = np.float32) + b\n",
    "    A = sigmoid(Z)\n",
    "    dZ = A - Y_train\n",
    "    dw = np.dot(X_train, dZ.T) / m\n",
    "    db = (np.sum(dZ)) / m\n",
    "    W = W - 1 * dw\n",
    "    b = b - 1 * db\n",
    "\n",
    "Z = np.array(np.dot(W.T, X_test), dtype = np.float32) + b\n",
    "A = sigmoid(Z)\n",
    "\n",
    "print(A - Y_test)"
   ]
  },
  {
   "cell_type": "code",
   "execution_count": null,
   "metadata": {
    "collapsed": true
   },
   "outputs": [],
   "source": []
  }
 ],
 "metadata": {
  "kernelspec": {
   "display_name": "Python 3",
   "language": "python",
   "name": "python3"
  },
  "language_info": {
   "codemirror_mode": {
    "name": "ipython",
    "version": 3
   },
   "file_extension": ".py",
   "mimetype": "text/x-python",
   "name": "python",
   "nbconvert_exporter": "python",
   "pygments_lexer": "ipython3",
   "version": "3.6.3"
  }
 },
 "nbformat": 4,
 "nbformat_minor": 2
}
