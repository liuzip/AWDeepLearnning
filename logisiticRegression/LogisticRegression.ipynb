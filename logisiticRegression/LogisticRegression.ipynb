{
 "cells": [
  {
   "cell_type": "code",
   "execution_count": 2,
   "metadata": {},
   "outputs": [
    {
     "name": "stdout",
     "output_type": "stream",
     "text": [
      "[[3.3390865628035726e-09 1.8041855582850985e-05 -1.6689300537109375e-06\n",
      "  1.2634587820414822e-10 -9.548664093017578e-05 1.3055259651117979e-10\n",
      "  -2.7179718017578125e-05 3.881193606503075e-06 1.1019578778359573e-06\n",
      "  7.329739310080186e-05 2.084992400952501e-09 1.2730273738270625e-05\n",
      "  1.547323222439445e-06 1.9031612055186997e-06 1.250130594598886e-06\n",
      "  -0.00023537874221801758 2.730797859840095e-06 2.2128631371742813e-06\n",
      "  -0.00036978721618652344 -5.4836273193359375e-06 2.6952706733140985e-08\n",
      "  2.4382450192206306e-06 -0.0012871026992797852 -0.0006352066993713379\n",
      "  1.7424999043669231e-07 -3.933906555175781e-06 -0.0003846883773803711\n",
      "  1.9945427993661724e-05 0.0005012533511035144 -0.0003050565719604492\n",
      "  1.0196062660838834e-08 1.9277633782621706e-06 -5.2809715270996094e-05\n",
      "  1.749009612694863e-07 6.193948687283068e-10 2.423684964014683e-05\n",
      "  -4.374980926513672e-05 2.8884119984695644e-08 2.047484122158494e-05\n",
      "  3.358384856255725e-05 4.857953150860794e-09 -8.487701416015625e-05\n",
      "  4.7097042710220194e-08 -0.0003775358200073242 -2.0503997802734375e-05]]\n"
     ]
    }
   ],
   "source": [
    "import pandas as pd\n",
    "import numpy as np\n",
    "from sklearn.cross_validation import train_test_split\n",
    "\n",
    "m = 150\n",
    "\n",
    "def sigmoid(var):\n",
    "    return 1 / (1 + np.exp(-var))\n",
    "\n",
    "df = pd.read_csv('./iris.data', header=None)\n",
    "X = df.iloc[:m, [0, 1, 2, 3]].values\n",
    "Y = df.iloc[:m, [4]].values\n",
    "\n",
    "for iter in range(m):\n",
    "    if Y[iter][0] == 'Iris-setosa':\n",
    "        Y[iter][0] = 1\n",
    "    else:\n",
    "        Y[iter][0] = 0\n",
    "\n",
    "X_train, X_test, Y_train, Y_test = train_test_split(X, Y, test_size = 0.3, random_state = 0)\n",
    "\n",
    "X_train = X_train.T\n",
    "X_test = X_test.T\n",
    "Y_train = Y_train.T\n",
    "Y_test = Y_test.T\n",
    "\n",
    "W = np.random.randn(4, 1) * 0.01\n",
    "b = 0\n",
    "\n",
    "for iter in range(10000):\n",
    "    Z = np.array(np.dot(W.T, X_train), dtype = np.float32) + b\n",
    "    A = sigmoid(Z)\n",
    "    dZ = A - Y_train\n",
    "    dw = np.dot(X_train, dZ.T) / m\n",
    "    db = (np.sum(dZ)) / m\n",
    "    W = W - 1 * dw\n",
    "    b = b - 1 * db\n",
    "\n",
    "Z = np.array(np.dot(W.T, X_test), dtype = np.float32) + b\n",
    "A = sigmoid(Z)\n",
    "\n",
    "print(A - Y_test)"
   ]
  },
  {
   "cell_type": "code",
   "execution_count": null,
   "metadata": {
    "collapsed": true
   },
   "outputs": [],
   "source": []
  }
 ],
 "metadata": {
  "kernelspec": {
   "display_name": "Python 3",
   "language": "python",
   "name": "python3"
  },
  "language_info": {
   "codemirror_mode": {
    "name": "ipython",
    "version": 3
   },
   "file_extension": ".py",
   "mimetype": "text/x-python",
   "name": "python",
   "nbconvert_exporter": "python",
   "pygments_lexer": "ipython3",
   "version": "3.6.3"
  }
 },
 "nbformat": 4,
 "nbformat_minor": 2
}
