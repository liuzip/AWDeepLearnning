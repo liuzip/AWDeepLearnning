{
 "cells": [
  {
   "cell_type": "code",
   "execution_count": 144,
   "metadata": {},
   "outputs": [
    {
     "name": "stdout",
     "output_type": "stream",
     "text": [
      "[[5.3161294810699644e-12 2.797215756800142e-07 0.0 2.9241959195866127e-14\n",
      "  -5.7220458984375e-06 5.6218471176060214e-14 -9.5367431640625e-07\n",
      "  3.774513501753063e-08 6.396349228054987e-09 2.1495270630111918e-06\n",
      "  1.3127759513134607e-12 1.9994232047793048e-07 9.844717929752278e-09\n",
      "  1.5318720514301276e-08 8.366249915070512e-09 -1.990795135498047e-05\n",
      "  2.6826949550695645e-08 1.8290831960143805e-08 -3.0994415283203125e-05\n",
      "  -1.1920928955078125e-07 7.255004236261797e-11 2.4063030679144504e-08\n",
      "  -0.0001984238624572754 -6.496906280517578e-05 7.443576865995283e-10\n",
      "  -1.1920928955078125e-07 -3.62396240234375e-05 3.4686576100284583e-07\n",
      "  3.13948439725209e-05 -2.4318695068359375e-05 1.3795881971534474e-11\n",
      "  1.797215709586908e-08 -2.6226043701171875e-06 7.362374043751174e-10\n",
      "  4.1026988121910246e-13 5.904211661800218e-07 -2.1457672119140625e-06\n",
      "  5.6737343989698985e-11 4.2984260062439716e-07 7.381389650618075e-07\n",
      "  5.909433099110517e-12 -4.410743713378906e-06 1.5136626674294718e-10\n",
      "  -2.86102294921875e-05 -7.152557373046875e-07]]\n"
     ]
    }
   ],
   "source": [
    "import pandas as pd\n",
    "import numpy as np\n",
    "from sklearn.cross_validation import train_test_split\n",
    "\n",
    "m = 150\n",
    "\n",
    "def sigmoid(var):\n",
    "    return 1 / (1 + np.exp(-var))\n",
    "\n",
    "df = pd.read_csv('C:/Users/Administrator/jNotebook/iris.data', header=None)\n",
    "X = df.iloc[:m, [0, 1, 2, 3]].values\n",
    "Y = df.iloc[:m, [4]].values\n",
    "\n",
    "for iter in range(m):\n",
    "    if Y[iter][0] == 'Iris-setosa':\n",
    "        Y[iter][0] = 1\n",
    "    else:\n",
    "        Y[iter][0] = 0\n",
    "\n",
    "X_train, X_test, Y_train, Y_test = train_test_split(X, Y, test_size = 0.3, random_state = 0)\n",
    "\n",
    "X_train = X_train.T\n",
    "X_test = X_test.T\n",
    "Y_train = Y_train.T\n",
    "Y_test = Y_test.T\n",
    "\n",
    "W = np.random.random(size=(4, 1))\n",
    "b = np.random.rand()\n",
    "\n",
    "for iter in range(100000):\n",
    "    Z = np.array(np.dot(W.T, X_train), dtype = np.float32) + b\n",
    "    A = sigmoid(Z)\n",
    "    dZ = A - Y_train\n",
    "    dw = np.dot(X_train, dZ.T) / m\n",
    "    db = (np.sum(dZ)) / m\n",
    "    W = W - 1 * dw\n",
    "    b = b - 1 * db\n",
    "\n",
    "Z = np.array(np.dot(W.T, X_test), dtype = np.float32) + b\n",
    "A = sigmoid(Z)\n",
    "\n",
    "print(A - Y_test)"
   ]
  },
  {
   "cell_type": "code",
   "execution_count": null,
   "metadata": {
    "collapsed": true
   },
   "outputs": [],
   "source": []
  }
 ],
 "metadata": {
  "kernelspec": {
   "display_name": "Python 3",
   "language": "python",
   "name": "python3"
  },
  "language_info": {
   "codemirror_mode": {
    "name": "ipython",
    "version": 3
   },
   "file_extension": ".py",
   "mimetype": "text/x-python",
   "name": "python",
   "nbconvert_exporter": "python",
   "pygments_lexer": "ipython3",
   "version": "3.6.3"
  }
 },
 "nbformat": 4,
 "nbformat_minor": 2
}
