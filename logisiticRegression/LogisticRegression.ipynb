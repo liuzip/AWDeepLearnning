{
 "cells": [
  {
   "cell_type": "code",
   "execution_count": 3,
   "metadata": {},
   "outputs": [
    {
     "name": "stdout",
     "output_type": "stream",
     "text": [
      "[[3.3634783846991922e-09 1.799717574613169e-05 -1.6689300537109375e-06\n",
      "  1.2542411553795318e-10 -9.584426879882812e-05 1.3064377357707713e-10\n",
      "  -2.7298927307128906e-05 3.874263256875565e-06 1.0992948773491662e-06\n",
      "  7.329502113861963e-05 2.061271597852965e-09 1.2707397218036931e-05\n",
      "  1.5352379705291241e-06 1.9026259678867063e-06 1.2438764542821446e-06\n",
      "  -0.0002364516258239746 2.7252742711425526e-06 2.1979219582135556e-06\n",
      "  -0.0003699064254760742 -5.4836273193359375e-06 2.6994431578941658e-08\n",
      "  2.4279727313114563e-06 -0.0012979507446289062 -0.0006372332572937012\n",
      "  1.7453972134262585e-07 -3.933906555175781e-06 -0.00038689374923706055\n",
      "  1.9890949261025526e-05 0.0005007110885344446 -0.00030553340911865234\n",
      "  1.0144057149830132e-08 1.9180092749593314e-06 -5.3048133850097656e-05\n",
      "  1.7479123926023021e-07 6.207112046574537e-10 2.4216635210905224e-05\n",
      "  -4.38690185546875e-05 2.8750116953801808e-08 2.0468514776439406e-05\n",
      "  3.351730265421793e-05 4.867979797040789e-09 -8.511543273925781e-05\n",
      "  4.751452564732972e-08 -0.0003770589828491211 -2.0503997802734375e-05]]\n"
     ]
    }
   ],
   "source": [
    "import pandas as pd\n",
    "import numpy as np\n",
    "from sklearn.model_selection import train_test_split\n",
    "\n",
    "m = 150\n",
    "\n",
    "def sigmoid(var):\n",
    "    return 1 / (1 + np.exp(-var))\n",
    "\n",
    "df = pd.read_csv('./iris.data', header=None)\n",
    "X = df.iloc[:m, [0, 1, 2, 3]].values\n",
    "Y = df.iloc[:m, [4]].values\n",
    "\n",
    "for iter in range(m):\n",
    "    if Y[iter][0] == 'Iris-setosa':\n",
    "        Y[iter][0] = 1\n",
    "    else:\n",
    "        Y[iter][0] = 0\n",
    "\n",
    "X_train, X_test, Y_train, Y_test = train_test_split(X, Y, test_size = 0.3, random_state = 0)\n",
    "\n",
    "X_train = X_train.T\n",
    "X_test = X_test.T\n",
    "Y_train = Y_train.T\n",
    "Y_test = Y_test.T\n",
    "\n",
    "W = np.random.randn(4, 1) * 0.01\n",
    "b = 0\n",
    "\n",
    "for iter in range(10000):\n",
    "    Z = np.array(np.dot(W.T, X_train), dtype = np.float32) + b\n",
    "    A = sigmoid(Z)\n",
    "    dZ = A - Y_train\n",
    "    dw = np.dot(X_train, dZ.T) / m\n",
    "    db = (np.sum(dZ)) / m\n",
    "    W = W - 1 * dw\n",
    "    b = b - 1 * db\n",
    "\n",
    "Z = np.array(np.dot(W.T, X_test), dtype = np.float32) + b\n",
    "A = sigmoid(Z)\n",
    "\n",
    "print(A - Y_test)"
   ]
  },
  {
   "cell_type": "code",
   "execution_count": null,
   "metadata": {
    "collapsed": true
   },
   "outputs": [],
   "source": []
  }
 ],
 "metadata": {
  "kernelspec": {
   "display_name": "Python 3",
   "language": "python",
   "name": "python3"
  },
  "language_info": {
   "codemirror_mode": {
    "name": "ipython",
    "version": 3
   },
   "file_extension": ".py",
   "mimetype": "text/x-python",
   "name": "python",
   "nbconvert_exporter": "python",
   "pygments_lexer": "ipython3",
   "version": "3.6.3"
  }
 },
 "nbformat": 4,
 "nbformat_minor": 2
}
