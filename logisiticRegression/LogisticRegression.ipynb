{
 "cells": [
  {
   "cell_type": "code",
   "execution_count": 1,
   "metadata": {},
   "outputs": [
    {
     "name": "stderr",
     "output_type": "stream",
     "text": [
      "C:\\ProgramData\\Anaconda3\\lib\\site-packages\\sklearn\\cross_validation.py:41: DeprecationWarning: This module was deprecated in version 0.18 in favor of the model_selection module into which all the refactored classes and functions are moved. Also note that the interface of the new CV iterators are different from that of this module. This module will be removed in 0.20.\n",
      "  \"This module will be removed in 0.20.\", DeprecationWarning)\n"
     ]
    },
    {
     "name": "stdout",
     "output_type": "stream",
     "text": [
      "[[1.8257151346290357e-09 2.118557495123241e-05 -3.6954879760742188e-06\n",
      "  4.3049463299693613e-11 -0.00013434886932373047 2.9194188733150384e-11\n",
      "  -3.361701965332031e-05 2.165881824112148e-06 7.914076718407159e-07\n",
      "  5.843742110300809e-05 5.707700423407402e-10 6.062062311684713e-06\n",
      "  6.33019340057217e-07 1.3999941756992484e-06 5.267008305054333e-07\n",
      "  -0.00027304887771606445 1.3620004892800353e-06 9.472215083405899e-07\n",
      "  -0.0003286600112915039 -7.3909759521484375e-06 1.1397116139733043e-08\n",
      "  8.140003728840384e-07 -0.0029377341270446777 -0.0007237792015075684\n",
      "  1.0754331469797762e-07 -5.9604644775390625e-06 -0.0009609460830688477\n",
      "  1.1836781595775392e-05 0.00046341324923560023 -0.0004056096076965332\n",
      "  2.8628786008511042e-09 5.568483061324514e-07 -7.200241088867188e-05\n",
      "  7.371190946514616e-08 2.9643709709148425e-10 1.3167455108487047e-05\n",
      "  -6.413459777832031e-05 1.1598562998926809e-08 1.0967223715852015e-05\n",
      "  2.5116896722465754e-05 2.519076058860037e-09 -0.00010001659393310547\n",
      "  3.80210849471041e-08 -0.00048744678497314453 -3.0159950256347656e-05]]\n"
     ]
    }
   ],
   "source": [
    "import pandas as pd\n",
    "import numpy as np\n",
    "from sklearn.cross_validation import train_test_split\n",
    "\n",
    "m = 150\n",
    "\n",
    "def sigmoid(var):\n",
    "    return 1 / (1 + np.exp(-var))\n",
    "\n",
    "df = pd.read_csv('./iris.data', header=None)\n",
    "X = df.iloc[:m, [0, 1, 2, 3]].values\n",
    "Y = df.iloc[:m, [4]].values\n",
    "\n",
    "for iter in range(m):\n",
    "    if Y[iter][0] == 'Iris-setosa':\n",
    "        Y[iter][0] = 1\n",
    "    else:\n",
    "        Y[iter][0] = 0\n",
    "\n",
    "X_train, X_test, Y_train, Y_test = train_test_split(X, Y, test_size = 0.3, random_state = 0)\n",
    "\n",
    "X_train = X_train.T\n",
    "X_test = X_test.T\n",
    "Y_train = Y_train.T\n",
    "Y_test = Y_test.T\n",
    "\n",
    "W = np.random.randn(4, 1)\n",
    "b = np.random.rand()\n",
    "\n",
    "for iter in range(10000):\n",
    "    Z = np.array(np.dot(W.T, X_train), dtype = np.float32) + b\n",
    "    A = sigmoid(Z)\n",
    "    dZ = A - Y_train\n",
    "    dw = np.dot(X_train, dZ.T) / m\n",
    "    db = (np.sum(dZ)) / m\n",
    "    W = W - 1 * dw\n",
    "    b = b - 1 * db\n",
    "\n",
    "Z = np.array(np.dot(W.T, X_test), dtype = np.float32) + b\n",
    "A = sigmoid(Z)\n",
    "\n",
    "print(A - Y_test)"
   ]
  },
  {
   "cell_type": "code",
   "execution_count": null,
   "metadata": {
    "collapsed": true
   },
   "outputs": [],
   "source": []
  },
  {
   "cell_type": "code",
   "execution_count": null,
   "metadata": {
    "collapsed": true
   },
   "outputs": [],
   "source": []
  }
 ],
 "metadata": {
  "kernelspec": {
   "display_name": "Python 3",
   "language": "python",
   "name": "python3"
  },
  "language_info": {
   "codemirror_mode": {
    "name": "ipython",
    "version": 3
   },
   "file_extension": ".py",
   "mimetype": "text/x-python",
   "name": "python",
   "nbconvert_exporter": "python",
   "pygments_lexer": "ipython3",
   "version": "3.6.3"
  }
 },
 "nbformat": 4,
 "nbformat_minor": 2
}
